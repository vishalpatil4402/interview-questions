{
 "cells": [
  {
   "cell_type": "code",
   "execution_count": null,
   "id": "d9e51d5b",
   "metadata": {},
   "outputs": [],
   "source": [
    "# 1. What are Data Types?\n",
    "\n",
    "# 2. What does immutable mean and what three types of Python core data types are considered immutable?\n",
    "\n",
    "# 3. What is slicing?\n",
    "\n",
    "# 4. How do you insert an object at a given index in Python?\n",
    "\n",
    "# 5. what are the different types of operators used in the python?\n",
    "\n",
    "# 6. What are local variables and global variables in Python?\n",
    "\n",
    "# 7. What are Python packages?\n",
    "\n",
    "# 8. How does break, continue, and pass work?\n",
    "\n",
    "# 9. What is the purpose of is, not and in operators?\n",
    "\n",
    "# 10. What is Polymorphism in Python?\n",
    "\n",
    "# 11. What is the lambda function in Python?\n",
    "\n",
    "# 12. What are the three main conditional statements in Python?\n",
    "\n",
    "# 13. What are Python namespaces? Why are they used?\n",
    "\n",
    "# 14. What are Dict and List comprehensions?\n",
    "\n",
    "# 15. What are iterators in Python?\n",
    "\n",
    "# 16. What does *args and **kwargs mean?\n",
    "\n",
    "# 17. How do you create a class in Python?\n",
    "\n",
    "# 18. What is init method in python?\n",
    "\n",
    "# 19. What are functions in Python?\n",
    "\n",
    "# 20 What is inheritance in Object oriented programming? Give an example of multiple inheritance.\n"
   ]
  }
 ],
 "metadata": {
  "kernelspec": {
   "display_name": "Python 3 (ipykernel)",
   "language": "python",
   "name": "python3"
  },
  "language_info": {
   "codemirror_mode": {
    "name": "ipython",
    "version": 3
   },
   "file_extension": ".py",
   "mimetype": "text/x-python",
   "name": "python",
   "nbconvert_exporter": "python",
   "pygments_lexer": "ipython3",
   "version": "3.10.0"
  }
 },
 "nbformat": 4,
 "nbformat_minor": 5
}
